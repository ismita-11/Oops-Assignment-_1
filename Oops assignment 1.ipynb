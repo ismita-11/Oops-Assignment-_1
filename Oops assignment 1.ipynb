{
 "cells": [
  {
   "cell_type": "markdown",
   "id": "7c1f9427-1239-4a59-915f-01bc5bd86e2b",
   "metadata": {},
   "source": [
    "1.Explain class and object with respect to Oops and give suitable example"
   ]
  },
  {
   "cell_type": "markdown",
   "id": "9a1e395f-c56d-4380-839b-79987a6a22ca",
   "metadata": {},
   "source": [
    "classes is collection of objects that provide a means of bundling data and funtionally together\n",
    "object:-\n",
    "it is simply collection of data(variables) and method(functions) that act on those data \n"
   ]
  },
  {
   "cell_type": "code",
   "execution_count": 5,
   "id": "79b72ed4-62b2-4213-8f8e-03864f64b5e0",
   "metadata": {},
   "outputs": [],
   "source": [
    "class pwskill:\n",
    "    def welcom_msg(self):\n",
    "        print(\"welcome to pwskill\")"
   ]
  },
  {
   "cell_type": "code",
   "execution_count": 6,
   "id": "8eabf3b7-bcd8-45da-8707-852fb5d2bb4d",
   "metadata": {},
   "outputs": [],
   "source": [
    "rohit=pwskill()"
   ]
  },
  {
   "cell_type": "markdown",
   "id": "0dd88f1e-115f-40da-9a05-a8467a75953c",
   "metadata": {},
   "source": [
    "rohit.welcom_msg()"
   ]
  },
  {
   "cell_type": "markdown",
   "id": "034443e7-ed59-4628-a0e5-78880b29a919",
   "metadata": {},
   "source": [
    "2.WHAT ARE THE FOUR PILLAR OF Oops"
   ]
  },
  {
   "cell_type": "markdown",
   "id": "ae5bdae9-9f06-41c3-864d-56e504786c55",
   "metadata": {},
   "source": [
    "1.inheritance , 2. abstraction 3. polymorphism 4. encapsulation\n",
    "are the four pillar of Oops\n"
   ]
  },
  {
   "cell_type": "markdown",
   "id": "6d94b1a8-874c-4202-a5a7-b8ec2929f01a",
   "metadata": {},
   "source": [
    "3.Explain why __init__() function is used with suitable example"
   ]
  },
  {
   "cell_type": "markdown",
   "id": "57c18b51-e27a-4713-9230-f4e4fc3c5f60",
   "metadata": {},
   "source": [
    "__init__() is a constructor method\n",
    "we call the constructor method whenever we need to construct an object of the class"
   ]
  },
  {
   "cell_type": "code",
   "execution_count": 12,
   "id": "de89a670-58a8-4c8c-9f81-f79f104cd61d",
   "metadata": {},
   "outputs": [],
   "source": [
    "class pwskill:\n",
    "    def __init__(self,name,color):\n",
    "        self.name=name\n",
    "        self.color=color"
   ]
  },
  {
   "cell_type": "markdown",
   "id": "748010fe-1460-4e29-9a97-1a7e06e0c771",
   "metadata": {},
   "source": [
    "4.Why self is used in Oops?\n"
   ]
  },
  {
   "cell_type": "markdown",
   "id": "e0328b61-ab1a-4cec-9594-31b36bc3e511",
   "metadata": {},
   "source": [
    "'self ' represent the instance of the class and by using 'self' we can access the attributes and methods of the class"
   ]
  },
  {
   "cell_type": "markdown",
   "id": "af7353d0-4c0a-4e42-b46b-f54ef72256c4",
   "metadata": {},
   "source": [
    "5.What is inheritance? write examples of each of them"
   ]
  },
  {
   "cell_type": "markdown",
   "id": "43da3d2f-e228-46a3-965a-d6068b92ed49",
   "metadata": {},
   "source": [
    "Ans:- when we define a class that inherits all the property of other class called inheritance\n",
    "they are of 4 types: 1)simple inheritance 2)multi-level inheritance 3)Multiple inheritance 4)hierachical inheritance\n"
   ]
  },
  {
   "cell_type": "code",
   "execution_count": 21,
   "id": "53c3adeb-1112-4bbb-9454-58cf79c23f75",
   "metadata": {},
   "outputs": [],
   "source": [
    "#simple inheritance\n",
    "class Mother:\n",
    "    def prop(self):\n",
    "        print(\"I have 50 acer \")\n",
    "        \n",
    "class Dugh(Mother):\n",
    "    def Lands(self):\n",
    "        print(\"that are all mine\")\n",
    "        "
   ]
  },
  {
   "cell_type": "code",
   "execution_count": 22,
   "id": "9a0a5ef5-a2da-4af1-aeef-b6715b41f92c",
   "metadata": {},
   "outputs": [],
   "source": [
    "i=Dugh()"
   ]
  },
  {
   "cell_type": "code",
   "execution_count": 23,
   "id": "23356ed2-a2d4-49c5-a697-453558500d74",
   "metadata": {},
   "outputs": [
    {
     "name": "stdout",
     "output_type": "stream",
     "text": [
      "I have 50 acer \n"
     ]
    }
   ],
   "source": [
    "i.prop()"
   ]
  },
  {
   "cell_type": "code",
   "execution_count": 24,
   "id": "3d45de68-21e0-492e-be35-bf9c547ac414",
   "metadata": {},
   "outputs": [],
   "source": [
    "#Multi-level inheritance\n",
    "class Father:\n",
    "    surname=\"Sahu\"\n",
    "    \n",
    "class Son(Father):\n",
    "    def show(self):\n",
    "        print(\"Yasawant\",self.surname)\n",
    "        \n",
    "class Daughter(Son):\n",
    "    def lol(self):\n",
    "        print(\"Ismita\",self.surname)"
   ]
  },
  {
   "cell_type": "code",
   "execution_count": 25,
   "id": "b67548e3-ef85-408f-8040-8922e48786f3",
   "metadata": {},
   "outputs": [],
   "source": [
    "i=Daughter()"
   ]
  },
  {
   "cell_type": "code",
   "execution_count": 26,
   "id": "1614b3d0-7053-4b9f-8f8b-36e4486964f6",
   "metadata": {},
   "outputs": [
    {
     "name": "stdout",
     "output_type": "stream",
     "text": [
      "Yasawant Sahu\n",
      "Ismita Sahu\n"
     ]
    }
   ],
   "source": [
    "i.show()\n",
    "i.lol()"
   ]
  },
  {
   "cell_type": "code",
   "execution_count": 27,
   "id": "b9fb7cd3-3dd3-48dc-84a8-12e1ef92f0b7",
   "metadata": {},
   "outputs": [],
   "source": [
    "#Multiple inheritance\n",
    "class Father:\n",
    "    def emo(self):\n",
    "        print(\"I have 3 car and 2 scooty\")\n",
    "        \n",
    "class Mother:\n",
    "    def jio(self):\n",
    "        print(\"I have some money\")\n",
    "        \n",
    "class Son(Father,Mother):\n",
    "    def neel(self):\n",
    "        print(\"I have nothing\")\n",
    "        "
   ]
  },
  {
   "cell_type": "code",
   "execution_count": 28,
   "id": "e449e30c-4197-4a65-8c8c-321e9b0e6e48",
   "metadata": {},
   "outputs": [],
   "source": [
    "c=Son()"
   ]
  },
  {
   "cell_type": "code",
   "execution_count": 29,
   "id": "922bd460-a8d4-4307-95d1-c066d4930698",
   "metadata": {},
   "outputs": [
    {
     "name": "stdout",
     "output_type": "stream",
     "text": [
      "I have 3 car and 2 scooty\n",
      "I have some money\n"
     ]
    }
   ],
   "source": [
    "c.emo()\n",
    "c.jio()\n"
   ]
  },
  {
   "cell_type": "code",
   "execution_count": 30,
   "id": "f3c4df9f-41b4-42a3-9089-bc30cf4e4e2b",
   "metadata": {},
   "outputs": [],
   "source": [
    "#hierachical inheritance\n",
    "class parent:\n",
    "    def preet(self):\n",
    "        print(\"hello from parent class\")\n",
    "\n",
    "class child1(parent):\n",
    "    pass\n",
    "\n",
    "class child2(parent):\n",
    "    pass\n",
    "    "
   ]
  },
  {
   "cell_type": "code",
   "execution_count": 31,
   "id": "7d4960bd-6bc8-46d8-8253-99b986abefc8",
   "metadata": {},
   "outputs": [],
   "source": [
    "c1=child1()"
   ]
  },
  {
   "cell_type": "code",
   "execution_count": 32,
   "id": "013075d9-273a-4fe5-9c8c-a4fa6b550a93",
   "metadata": {},
   "outputs": [],
   "source": [
    "c2=child2()"
   ]
  },
  {
   "cell_type": "code",
   "execution_count": 33,
   "id": "037df46d-6365-4099-a2ad-eaeb9b136be4",
   "metadata": {},
   "outputs": [
    {
     "name": "stdout",
     "output_type": "stream",
     "text": [
      "hello from parent class\n",
      "hello from parent class\n"
     ]
    }
   ],
   "source": [
    "c1.preet()\n",
    "c2.preet()"
   ]
  },
  {
   "cell_type": "code",
   "execution_count": null,
   "id": "2fb0ff09-6ecd-45f9-8386-cde47c5b0379",
   "metadata": {},
   "outputs": [],
   "source": []
  }
 ],
 "metadata": {
  "kernelspec": {
   "display_name": "Python 3 (ipykernel)",
   "language": "python",
   "name": "python3"
  },
  "language_info": {
   "codemirror_mode": {
    "name": "ipython",
    "version": 3
   },
   "file_extension": ".py",
   "mimetype": "text/x-python",
   "name": "python",
   "nbconvert_exporter": "python",
   "pygments_lexer": "ipython3",
   "version": "3.10.8"
  }
 },
 "nbformat": 4,
 "nbformat_minor": 5
}
